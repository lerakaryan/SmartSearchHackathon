{
 "cells": [
  {
   "cell_type": "markdown",
   "metadata": {},
   "source": [
    "Imports"
   ]
  },
  {
   "cell_type": "code",
   "execution_count": 100,
   "metadata": {},
   "outputs": [
    {
     "name": "stdout",
     "output_type": "stream",
     "text": [
      "Requirement already satisfied: pyspellchecker in c:\\users\\1\\appdata\\local\\programs\\python\\python38\\lib\\site-packages (0.8.3)\n",
      "Note: you may need to restart the kernel to use updated packages.\n"
     ]
    }
   ],
   "source": [
    "%pip install pyspellchecker \n"
   ]
  },
  {
   "cell_type": "code",
   "execution_count": 54,
   "metadata": {},
   "outputs": [],
   "source": [
    "import re\n",
    "from spellchecker import SpellChecker\n"
   ]
  },
  {
   "cell_type": "markdown",
   "metadata": {},
   "source": [
    "Определение намерения"
   ]
  },
  {
   "cell_type": "markdown",
   "metadata": {},
   "source": [
    "Ключевые слова"
   ]
  },
  {
   "cell_type": "code",
   "execution_count": null,
   "metadata": {},
   "outputs": [],
   "source": []
  },
  {
   "cell_type": "markdown",
   "metadata": {},
   "source": [
    "Тесты"
   ]
  },
  {
   "cell_type": "code",
   "execution_count": 55,
   "metadata": {},
   "outputs": [],
   "source": [
    "test = SpellChecker(language='ru')"
   ]
  },
  {
   "cell_type": "code",
   "execution_count": 56,
   "metadata": {},
   "outputs": [
    {
     "name": "stdout",
     "output_type": "stream",
     "text": [
      "привет\n"
     ]
    }
   ],
   "source": [
    "print(test.correction('паривед'))"
   ]
  },
  {
   "cell_type": "code",
   "execution_count": 59,
   "metadata": {},
   "outputs": [],
   "source": [
    "def Corrector(text):\n",
    "    words = text.split(\" \")\n",
    "    corrected_words = [test.correction(word) for word in words]\n",
    "    return \" \".join(corrected_words)\n"
   ]
  },
  {
   "cell_type": "code",
   "execution_count": 72,
   "metadata": {},
   "outputs": [
    {
     "name": "stdout",
     "output_type": "stream",
     "text": [
      "СК\n",
      "со\n"
     ]
    }
   ],
   "source": [
    "text= \"СК\"\n",
    "print(text)\n",
    "print(Corrector(text))"
   ]
  },
  {
   "cell_type": "code",
   "execution_count": null,
   "metadata": {},
   "outputs": [],
   "source": [
    "ask_regex = \"( |^)(кто|что|где|когда|почему|как|какие|сколько|зачем|чей|куда|откуда)( |$)|\\?.*\""
   ]
  },
  {
   "cell_type": "code",
   "execution_count": 124,
   "metadata": {},
   "outputs": [],
   "source": [
    "def AskIdentifier(text):\n",
    "    if(re.search(ask_regex, text.lower())):\n",
    "        print(\"Это вопрос\")\n",
    "    else:\n",
    "        print(\"Это не вопрос\")"
   ]
  },
  {
   "cell_type": "code",
   "execution_count": null,
   "metadata": {},
   "outputs": [
    {
     "name": "stdout",
     "output_type": "stream",
     "text": [
      "Это вопрос\n"
     ]
    }
   ],
   "source": [
    "data = \"Как \"\n",
    "AskIdentifier(data)"
   ]
  },
  {
   "cell_type": "code",
   "execution_count": null,
   "metadata": {},
   "outputs": [
    {
     "name": "stdout",
     "output_type": "stream",
     "text": [
      "True\n",
      "True\n",
      "True\n",
      "False\n",
      "False\n"
     ]
    }
   ],
   "source": [
    "import pymorphy2\n",
    "\n",
    "morph = pymorphy2.MorphAnalyzer()\n",
    "\n",
    "def is_question_word(word):\n",
    "    parsed = morph.parse(word)[0]\n",
    "    normal_form = parsed.normal_form\n",
    "    question_words = {\"кто\", \"что\", \"где\", \"когда\", \"почему\", \"как\", \"какой\", \"сколько\", \"зачем\", \"чей\", \"куда\", \"откуда\"}\n",
    "    return normal_form in question_words\n",
    "\n",
    "def is_question(text):\n",
    "    if text.strip().endswith('?'):\n",
    "        return True\n",
    "    words = text.split()\n",
    "    if words and is_question_word(words[0].lower()):\n",
    "        return True\n",
    "    return False\n",
    "\n",
    "print(is_question(\"Где-то я это видел?\"))  # True (есть знак ?)\n",
    "print(is_question(\"Где я это видел?\"))     # True (есть вопросительное слово + знак ?)\n",
    "print(is_question(\"Где я это видел\"))      # True (есть вопросительное слово в начале)\n",
    "print(is_question(\"Как-то это странно\"))   # False (нет знака ?, и \"как-то\" не является вопросительным словом в нормальной форме)\n",
    "print(is_question(\"Я знаю, где ты был\"))   # False (вопросительное слово не в начале)"
   ]
  },
  {
   "cell_type": "code",
   "execution_count": null,
   "metadata": {},
   "outputs": [
    {
     "name": "stdout",
     "output_type": "stream",
     "text": [
      "[[1, 'Добавление оферты в корзину'], [2, 'Удаление оферты из корзины'], [3, 'Создание заявки на прямую закупку'], [4, 'Отправка заявки на прямую закупку поставщику'], [5, 'Просмотр списка заявок на прямые закупки'], [6, 'Сохранение комментариев к общественным обсуждениям'], [7, 'Редактирование закупки по потребности'], [8, 'Публикация закупки по потребности'], [9, 'Удаление закупки по потребности'], [10, 'Отмена закупки по потребности'], [11, 'Создание КС по оферте'], [12, 'Просмотр корзины'], [13, 'Установка статуса контракта Исполнен'], [14, 'Установка статуса контракта Расторгнут'], [15, 'Создание котировочной сессии'], [16, 'Выгрузка протокол по КС'], [17, 'Создание отчета по КС'], [18, 'Просмотр закупок по потребностям'], [19, 'Просмотр выгрузки по своим контрактам'], [20, 'Создание КС по СТЕ'], [21, 'Создание КС по справочнику ПП'], [22, 'Создание КС по ОКПД'], [23, 'Создание КС по СПГЗ'], [24, 'Выполнение операции по контракту своей организации'], [25, 'Просмотр контракта своей организации']]\n"
     ]
    }
   ],
   "source": [
    "dictionary = [[1, \"Добавление оферты в корзину\"], \n",
    "              [2, \"Удаление оферты из корзины\"],\n",
    "              [3, \"Создание заявки на прямую закупку\"],\n",
    "              [4, \"Отправка заявки на прямую закупку поставщику\"],\n",
    "              [5, \"Просмотр списка заявок на прямые закупки\"],\n",
    "              [6, \"Сохранение комментариев к общественным обсуждениям\"],\n",
    "              [7, \"Редактирование закупки по потребности\"],\n",
    "              [8, \"Публикация закупки по потребности\"],\n",
    "              [9, \"Удаление закупки по потребности\"],\n",
    "              [10, \"Отмена закупки по потребности\"],\n",
    "              [11, \"Создание КС по оферте\"],\n",
    "              [12, \"Просмотр корзины\"],\n",
    "              [13, \"Установка статуса контракта Исполнен\"],\n",
    "              [14, \"Установка статуса контракта Расторгнут\"],\n",
    "              [15, \"Создание котировочной сессии\"],\n",
    "              [16, \"Выгрузка протокол по КС\"],\n",
    "              [17, \"Создание отчета по КС\"],\n",
    "              [18, \"Просмотр закупок по потребностям\"],\n",
    "              [19, \"Просмотр выгрузки по своим контрактам\"],\n",
    "              [20, \"Создание КС по СТЕ\"],\n",
    "              [21, \"Создание КС по справочнику ПП\"],\n",
    "              [22, \"Создание КС по ОКПД\"],\n",
    "              [23, \"Создание КС по СПГЗ\"],\n",
    "              [24, \"Выполнение операции по контракту своей организации\"],\n",
    "              [25, \"Просмотр контракта своей организации\"]\n",
    "              ]"
   ]
  },
  {
   "cell_type": "code",
   "execution_count": 79,
   "metadata": {},
   "outputs": [
    {
     "data": {
      "text/html": [
       "<div>\n",
       "<style scoped>\n",
       "    .dataframe tbody tr th:only-of-type {\n",
       "        vertical-align: middle;\n",
       "    }\n",
       "\n",
       "    .dataframe tbody tr th {\n",
       "        vertical-align: top;\n",
       "    }\n",
       "\n",
       "    .dataframe thead th {\n",
       "        text-align: right;\n",
       "    }\n",
       "</style>\n",
       "<table border=\"1\" class=\"dataframe\">\n",
       "  <thead>\n",
       "    <tr style=\"text-align: right;\">\n",
       "      <th></th>\n",
       "      <th>text</th>\n",
       "      <th>intent</th>\n",
       "    </tr>\n",
       "  </thead>\n",
       "  <tbody>\n",
       "    <tr>\n",
       "      <th>0</th>\n",
       "      <td>Оформи профиль компании</td>\n",
       "      <td>create_company_profile</td>\n",
       "    </tr>\n",
       "    <tr>\n",
       "      <th>1</th>\n",
       "      <td>Сделай регистрацию фирмы онлайн</td>\n",
       "      <td>create_company_profile</td>\n",
       "    </tr>\n",
       "    <tr>\n",
       "      <th>2</th>\n",
       "      <td>Добавь профиль юрлица</td>\n",
       "      <td>create_company_profile</td>\n",
       "    </tr>\n",
       "    <tr>\n",
       "      <th>3</th>\n",
       "      <td>с нуля добавь данные новой компании</td>\n",
       "      <td>create_company_profile</td>\n",
       "    </tr>\n",
       "    <tr>\n",
       "      <th>4</th>\n",
       "      <td>Хочу создать аккаунт компании повторно</td>\n",
       "      <td>create_company_profile</td>\n",
       "    </tr>\n",
       "    <tr>\n",
       "      <th>...</th>\n",
       "      <td>...</td>\n",
       "      <td>...</td>\n",
       "    </tr>\n",
       "    <tr>\n",
       "      <th>1395</th>\n",
       "      <td>Добавь новую оферту</td>\n",
       "      <td>manage_offer</td>\n",
       "    </tr>\n",
       "    <tr>\n",
       "      <th>1396</th>\n",
       "      <td>Сделай публикацию оферты на сегодня</td>\n",
       "      <td>manage_offer</td>\n",
       "    </tr>\n",
       "    <tr>\n",
       "      <th>1397</th>\n",
       "      <td>Сделай редактирование и публикацию оферты авто...</td>\n",
       "      <td>manage_offer</td>\n",
       "    </tr>\n",
       "    <tr>\n",
       "      <th>1398</th>\n",
       "      <td>онлайн сделай публикацию оферты</td>\n",
       "      <td>manage_offer</td>\n",
       "    </tr>\n",
       "    <tr>\n",
       "      <th>1399</th>\n",
       "      <td>Оформи оферту для поставки в систему</td>\n",
       "      <td>manage_offer</td>\n",
       "    </tr>\n",
       "  </tbody>\n",
       "</table>\n",
       "<p>1400 rows × 2 columns</p>\n",
       "</div>"
      ],
      "text/plain": [
       "                                                   text  \\\n",
       "0                               Оформи профиль компании   \n",
       "1                       Сделай регистрацию фирмы онлайн   \n",
       "2                                 Добавь профиль юрлица   \n",
       "3                   с нуля добавь данные новой компании   \n",
       "4                Хочу создать аккаунт компании повторно   \n",
       "...                                                 ...   \n",
       "1395                                Добавь новую оферту   \n",
       "1396                Сделай публикацию оферты на сегодня   \n",
       "1397  Сделай редактирование и публикацию оферты авто...   \n",
       "1398                    онлайн сделай публикацию оферты   \n",
       "1399               Оформи оферту для поставки в систему   \n",
       "\n",
       "                      intent  \n",
       "0     create_company_profile  \n",
       "1     create_company_profile  \n",
       "2     create_company_profile  \n",
       "3     create_company_profile  \n",
       "4     create_company_profile  \n",
       "...                      ...  \n",
       "1395            manage_offer  \n",
       "1396            manage_offer  \n",
       "1397            manage_offer  \n",
       "1398            manage_offer  \n",
       "1399            manage_offer  \n",
       "\n",
       "[1400 rows x 2 columns]"
      ]
     },
     "execution_count": 79,
     "metadata": {},
     "output_type": "execute_result"
    }
   ],
   "source": [
    "import pandas as pd\n",
    "data = pd.read_csv('intents_dataset.csv')\n",
    "data"
   ]
  },
  {
   "cell_type": "code",
   "execution_count": 81,
   "metadata": {},
   "outputs": [
    {
     "name": "stdout",
     "output_type": "stream",
     "text": [
      "Learning rate set to 0.5\n",
      "0:\tlearn: 1.3453172\ttotal: 72.6ms\tremaining: 7.19s\n",
      "10:\tlearn: 0.4807276\ttotal: 643ms\tremaining: 5.2s\n",
      "20:\tlearn: 0.2395672\ttotal: 1.05s\tremaining: 3.94s\n",
      "30:\tlearn: 0.1600164\ttotal: 1.44s\tremaining: 3.19s\n",
      "40:\tlearn: 0.1181154\ttotal: 1.83s\tremaining: 2.63s\n",
      "50:\tlearn: 0.0894099\ttotal: 2.23s\tremaining: 2.15s\n",
      "60:\tlearn: 0.0725689\ttotal: 2.63s\tremaining: 1.68s\n",
      "70:\tlearn: 0.0631680\ttotal: 3.02s\tremaining: 1.24s\n",
      "80:\tlearn: 0.0515109\ttotal: 3.42s\tremaining: 802ms\n",
      "90:\tlearn: 0.0426426\ttotal: 3.82s\tremaining: 377ms\n",
      "99:\tlearn: 0.0373933\ttotal: 4.17s\tremaining: 0us\n",
      "Accuracy: 0.9948979591836735\n",
      "                           precision    recall  f1-score   support\n",
      "\n",
      "                  add_ecp       1.00      1.00      1.00        93\n",
      "   create_company_profile       0.96      1.00      0.98        73\n",
      "          create_contract       1.00      0.99      0.99        88\n",
      "create_direct_procurement       1.00      0.99      0.99        85\n",
      " create_quotation_session       1.00      1.00      1.00        82\n",
      "             manage_offer       1.00      1.00      1.00        80\n",
      "      update_user_profile       1.00      0.99      0.99        87\n",
      "\n",
      "                 accuracy                           0.99       588\n",
      "                macro avg       0.99      1.00      0.99       588\n",
      "             weighted avg       1.00      0.99      0.99       588\n",
      "\n"
     ]
    }
   ],
   "source": [
    "from sklearn.feature_extraction.text import TfidfVectorizer\n",
    "from sklearn.model_selection import train_test_split\n",
    "from catboost import CatBoostClassifier\n",
    "from sklearn.metrics import accuracy_score, classification_report\n",
    "\n",
    "# 1. Загрузка данных\n",
    "data = pd.read_csv('intents_dataset.csv')\n",
    "X = data['text']\n",
    "y = data['intent']\n",
    "\n",
    "# 2. Преобразование текста в числовые признаки\n",
    "vectorizer = TfidfVectorizer(ngram_range=(1, 2))\n",
    "X_vectorized = vectorizer.fit_transform(X)\n",
    "\n",
    "# 3. Разделение данных\n",
    "X_train, X_test, y_train, y_test = train_test_split(\n",
    "    X_vectorized, y, test_size=0.42, random_state=82\n",
    ")\n",
    "\n",
    "# 4. Обучение модели CatBoost\n",
    "model = CatBoostClassifier(iterations=100, verbose=10)\n",
    "model.fit(X_train, y_train)\n",
    "\n",
    "# 5. Оценка модели\n",
    "y_pred = model.predict(X_test)\n",
    "print(f'Accuracy: {accuracy_score(y_test, y_pred)}')\n",
    "print(classification_report(y_test, y_pred))"
   ]
  },
  {
   "cell_type": "code",
   "execution_count": 100,
   "metadata": {},
   "outputs": [
    {
     "name": "stdout",
     "output_type": "stream",
     "text": [
      "Предсказанный класс: ['update_user_profile']\n"
     ]
    }
   ],
   "source": [
    "test_phrase = [\"измени мое имя на замунбек\"]\n",
    "test_vector = vectorizer.transform(test_phrase)\n",
    "predicted_class = model.predict(test_vector)\n",
    "print(f'Предсказанный класс: {predicted_class[0]}')"
   ]
  },
  {
   "cell_type": "code",
   "execution_count": 95,
   "metadata": {},
   "outputs": [
    {
     "data": {
      "text/html": [
       "<div>\n",
       "<style scoped>\n",
       "    .dataframe tbody tr th:only-of-type {\n",
       "        vertical-align: middle;\n",
       "    }\n",
       "\n",
       "    .dataframe tbody tr th {\n",
       "        vertical-align: top;\n",
       "    }\n",
       "\n",
       "    .dataframe thead th {\n",
       "        text-align: right;\n",
       "    }\n",
       "</style>\n",
       "<table border=\"1\" class=\"dataframe\">\n",
       "  <thead>\n",
       "    <tr style=\"text-align: right;\">\n",
       "      <th></th>\n",
       "      <th>text</th>\n",
       "      <th>intent</th>\n",
       "    </tr>\n",
       "  </thead>\n",
       "  <tbody>\n",
       "    <tr>\n",
       "      <th>800</th>\n",
       "      <td>Сделай котировочную сессию на канцтовары на се...</td>\n",
       "      <td>create_quotation_session</td>\n",
       "    </tr>\n",
       "    <tr>\n",
       "      <th>801</th>\n",
       "      <td>в базе сделай запуск котировочной сессии</td>\n",
       "      <td>create_quotation_session</td>\n",
       "    </tr>\n",
       "    <tr>\n",
       "      <th>802</th>\n",
       "      <td>Открой процедуру КС</td>\n",
       "      <td>create_quotation_session</td>\n",
       "    </tr>\n",
       "    <tr>\n",
       "      <th>803</th>\n",
       "      <td>Создай КС на 100 тыс. по мебели на завтра</td>\n",
       "      <td>create_quotation_session</td>\n",
       "    </tr>\n",
       "    <tr>\n",
       "      <th>804</th>\n",
       "      <td>Открой котировочную сессию</td>\n",
       "      <td>create_quotation_session</td>\n",
       "    </tr>\n",
       "    <tr>\n",
       "      <th>...</th>\n",
       "      <td>...</td>\n",
       "      <td>...</td>\n",
       "    </tr>\n",
       "    <tr>\n",
       "      <th>995</th>\n",
       "      <td>онлайн хочу оформить кс</td>\n",
       "      <td>create_quotation_session</td>\n",
       "    </tr>\n",
       "    <tr>\n",
       "      <th>996</th>\n",
       "      <td>Открой процедуру КС</td>\n",
       "      <td>create_quotation_session</td>\n",
       "    </tr>\n",
       "    <tr>\n",
       "      <th>997</th>\n",
       "      <td>Создай котировочную процедуру</td>\n",
       "      <td>create_quotation_session</td>\n",
       "    </tr>\n",
       "    <tr>\n",
       "      <th>998</th>\n",
       "      <td>Оформи котировочную сессию</td>\n",
       "      <td>create_quotation_session</td>\n",
       "    </tr>\n",
       "    <tr>\n",
       "      <th>999</th>\n",
       "      <td>Оформи котировочную сессию</td>\n",
       "      <td>create_quotation_session</td>\n",
       "    </tr>\n",
       "  </tbody>\n",
       "</table>\n",
       "<p>200 rows × 2 columns</p>\n",
       "</div>"
      ],
      "text/plain": [
       "                                                  text  \\\n",
       "800  Сделай котировочную сессию на канцтовары на се...   \n",
       "801           в базе сделай запуск котировочной сессии   \n",
       "802                                Открой процедуру КС   \n",
       "803          Создай КС на 100 тыс. по мебели на завтра   \n",
       "804                         Открой котировочную сессию   \n",
       "..                                                 ...   \n",
       "995                            онлайн хочу оформить кс   \n",
       "996                                Открой процедуру КС   \n",
       "997                      Создай котировочную процедуру   \n",
       "998                         Оформи котировочную сессию   \n",
       "999                         Оформи котировочную сессию   \n",
       "\n",
       "                       intent  \n",
       "800  create_quotation_session  \n",
       "801  create_quotation_session  \n",
       "802  create_quotation_session  \n",
       "803  create_quotation_session  \n",
       "804  create_quotation_session  \n",
       "..                        ...  \n",
       "995  create_quotation_session  \n",
       "996  create_quotation_session  \n",
       "997  create_quotation_session  \n",
       "998  create_quotation_session  \n",
       "999  create_quotation_session  \n",
       "\n",
       "[200 rows x 2 columns]"
      ]
     },
     "execution_count": 95,
     "metadata": {},
     "output_type": "execute_result"
    }
   ],
   "source": [
    "data[data[\"intent\"]==\"create_quotation_session\"]"
   ]
  },
  {
   "cell_type": "markdown",
   "metadata": {},
   "source": [
    "Контрольная реализация"
   ]
  },
  {
   "cell_type": "code",
   "execution_count": null,
   "metadata": {},
   "outputs": [],
   "source": []
  }
 ],
 "metadata": {
  "kernelspec": {
   "display_name": "Python 3",
   "language": "python",
   "name": "python3"
  },
  "language_info": {
   "codemirror_mode": {
    "name": "ipython",
    "version": 3
   },
   "file_extension": ".py",
   "mimetype": "text/x-python",
   "name": "python",
   "nbconvert_exporter": "python",
   "pygments_lexer": "ipython3",
   "version": "3.8.10"
  }
 },
 "nbformat": 4,
 "nbformat_minor": 2
}
