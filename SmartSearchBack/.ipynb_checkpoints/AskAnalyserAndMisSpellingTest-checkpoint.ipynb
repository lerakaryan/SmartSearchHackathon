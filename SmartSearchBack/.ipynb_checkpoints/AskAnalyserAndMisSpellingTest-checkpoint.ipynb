{
 "cells": [
  {
   "cell_type": "markdown",
   "metadata": {},
   "source": [
    "Imports"
   ]
  },
  {
   "cell_type": "code",
   "execution_count": 100,
   "metadata": {},
   "outputs": [
    {
     "name": "stdout",
     "output_type": "stream",
     "text": [
      "Requirement already satisfied: pyspellchecker in c:\\users\\1\\appdata\\local\\programs\\python\\python38\\lib\\site-packages (0.8.3)\n",
      "Note: you may need to restart the kernel to use updated packages.\n"
     ]
    }
   ],
   "source": [
    "%pip install pyspellchecker \n"
   ]
  },
  {
   "cell_type": "code",
   "execution_count": 101,
   "metadata": {},
   "outputs": [],
   "source": [
    "import re\n",
    "from spellchecker import SpellChecker\n"
   ]
  },
  {
   "cell_type": "markdown",
   "metadata": {},
   "source": [
    "Определение намерения"
   ]
  },
  {
   "cell_type": "markdown",
   "metadata": {},
   "source": [
    "Ключевые слова"
   ]
  },
  {
   "cell_type": "code",
   "execution_count": null,
   "metadata": {},
   "outputs": [],
   "source": []
  },
  {
   "cell_type": "markdown",
   "metadata": {},
   "source": [
    "Тесты"
   ]
  },
  {
   "cell_type": "code",
   "execution_count": 102,
   "metadata": {},
   "outputs": [],
   "source": [
    "test = SpellChecker(language='ru')"
   ]
  },
  {
   "cell_type": "code",
   "execution_count": 103,
   "metadata": {},
   "outputs": [
    {
     "name": "stdout",
     "output_type": "stream",
     "text": [
      "привет\n"
     ]
    }
   ],
   "source": [
    "print(test.correction('паривед'))"
   ]
  },
  {
   "cell_type": "code",
   "execution_count": null,
   "metadata": {},
   "outputs": [],
   "source": [
    "ask_regex = \"( |^)(кто|что|где|когда|почему|как|какие|сколько|зачем|чей|куда|откуда)( |$)|\\?.*\""
   ]
  },
  {
   "cell_type": "code",
   "execution_count": 124,
   "metadata": {},
   "outputs": [],
   "source": [
    "def AskIdentifier(text):\n",
    "    if(re.search(ask_regex, text.lower())):\n",
    "        print(\"Это вопрос\")\n",
    "    else:\n",
    "        print(\"Это не вопрос\")"
   ]
  },
  {
   "cell_type": "code",
   "execution_count": null,
   "metadata": {},
   "outputs": [
    {
     "name": "stdout",
     "output_type": "stream",
     "text": [
      "Это вопрос\n"
     ]
    }
   ],
   "source": [
    "data = \"Как \"\n",
    "AskIdentifier(data)"
   ]
  },
  {
   "cell_type": "code",
   "execution_count": null,
   "metadata": {},
   "outputs": [
    {
     "name": "stdout",
     "output_type": "stream",
     "text": [
      "True\n",
      "True\n",
      "True\n",
      "False\n",
      "False\n"
     ]
    }
   ],
   "source": [
    "import pymorphy2\n",
    "\n",
    "morph = pymorphy2.MorphAnalyzer()\n",
    "\n",
    "def is_question_word(word):\n",
    "    parsed = morph.parse(word)[0]\n",
    "    normal_form = parsed.normal_form\n",
    "    question_words = {\"кто\", \"что\", \"где\", \"когда\", \"почему\", \"как\", \"какой\", \"сколько\", \"зачем\", \"чей\", \"куда\", \"откуда\"}\n",
    "    return normal_form in question_words\n",
    "\n",
    "def is_question(text):\n",
    "    if text.strip().endswith('?'):\n",
    "        return True\n",
    "    words = text.split()\n",
    "    if words and is_question_word(words[0].lower()):\n",
    "        return True\n",
    "    return False\n",
    "\n",
    "print(is_question(\"Где-то я это видел?\"))  # True (есть знак ?)\n",
    "print(is_question(\"Где я это видел?\"))     # True (есть вопросительное слово + знак ?)\n",
    "print(is_question(\"Где я это видел\"))      # True (есть вопросительное слово в начале)\n",
    "print(is_question(\"Как-то это странно\"))   # False (нет знака ?, и \"как-то\" не является вопросительным словом в нормальной форме)\n",
    "print(is_question(\"Я знаю, где ты был\"))   # False (вопросительное слово не в начале)"
   ]
  },
  {
   "cell_type": "markdown",
   "metadata": {},
   "source": [
    "Контрольная реализация"
   ]
  },
  {
   "cell_type": "code",
   "execution_count": null,
   "metadata": {},
   "outputs": [],
   "source": []
  }
 ],
 "metadata": {
  "kernelspec": {
   "display_name": "Python 3 (ipykernel)",
   "language": "python",
   "name": "python3"
  },
  "language_info": {
   "codemirror_mode": {
    "name": "ipython",
    "version": 3
   },
   "file_extension": ".py",
   "mimetype": "text/x-python",
   "name": "python",
   "nbconvert_exporter": "python",
   "pygments_lexer": "ipython3",
   "version": "3.10.0"
  }
 },
 "nbformat": 4,
 "nbformat_minor": 2
}
