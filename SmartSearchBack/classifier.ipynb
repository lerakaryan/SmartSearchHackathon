{
 "cells": [
  {
   "cell_type": "code",
   "execution_count": 2,
   "id": "44eb3d18",
   "metadata": {},
   "outputs": [
    {
     "data": {
      "text/html": [
       "<div>\n",
       "<style scoped>\n",
       "    .dataframe tbody tr th:only-of-type {\n",
       "        vertical-align: middle;\n",
       "    }\n",
       "\n",
       "    .dataframe tbody tr th {\n",
       "        vertical-align: top;\n",
       "    }\n",
       "\n",
       "    .dataframe thead th {\n",
       "        text-align: right;\n",
       "    }\n",
       "</style>\n",
       "<table border=\"1\" class=\"dataframe\">\n",
       "  <thead>\n",
       "    <tr style=\"text-align: right;\">\n",
       "      <th></th>\n",
       "      <th>text</th>\n",
       "      <th>intent</th>\n",
       "    </tr>\n",
       "  </thead>\n",
       "  <tbody>\n",
       "    <tr>\n",
       "      <th>0</th>\n",
       "      <td>Оформи профиль компании</td>\n",
       "      <td>create_company_profile</td>\n",
       "    </tr>\n",
       "    <tr>\n",
       "      <th>1</th>\n",
       "      <td>Сделай регистрацию фирмы онлайн</td>\n",
       "      <td>create_company_profile</td>\n",
       "    </tr>\n",
       "    <tr>\n",
       "      <th>2</th>\n",
       "      <td>Добавь профиль юрлица</td>\n",
       "      <td>create_company_profile</td>\n",
       "    </tr>\n",
       "    <tr>\n",
       "      <th>3</th>\n",
       "      <td>с нуля добавь данные новой компании</td>\n",
       "      <td>create_company_profile</td>\n",
       "    </tr>\n",
       "    <tr>\n",
       "      <th>4</th>\n",
       "      <td>Хочу создать аккаунт компании повторно</td>\n",
       "      <td>create_company_profile</td>\n",
       "    </tr>\n",
       "    <tr>\n",
       "      <th>...</th>\n",
       "      <td>...</td>\n",
       "      <td>...</td>\n",
       "    </tr>\n",
       "    <tr>\n",
       "      <th>2099</th>\n",
       "      <td>Сесть на мель</td>\n",
       "      <td>unknown</td>\n",
       "    </tr>\n",
       "    <tr>\n",
       "      <th>2100</th>\n",
       "      <td>Хлопать глазами</td>\n",
       "      <td>unknown</td>\n",
       "    </tr>\n",
       "    <tr>\n",
       "      <th>2101</th>\n",
       "      <td>Вешать лапшу</td>\n",
       "      <td>unknown</td>\n",
       "    </tr>\n",
       "    <tr>\n",
       "      <th>2102</th>\n",
       "      <td>Идти в ногу</td>\n",
       "      <td>unknown</td>\n",
       "    </tr>\n",
       "    <tr>\n",
       "      <th>2103</th>\n",
       "      <td>Метать бисер</td>\n",
       "      <td>unknown</td>\n",
       "    </tr>\n",
       "  </tbody>\n",
       "</table>\n",
       "<p>2104 rows × 2 columns</p>\n",
       "</div>"
      ],
      "text/plain": [
       "                                        text                  intent\n",
       "0                    Оформи профиль компании  create_company_profile\n",
       "1            Сделай регистрацию фирмы онлайн  create_company_profile\n",
       "2                      Добавь профиль юрлица  create_company_profile\n",
       "3        с нуля добавь данные новой компании  create_company_profile\n",
       "4     Хочу создать аккаунт компании повторно  create_company_profile\n",
       "...                                      ...                     ...\n",
       "2099                           Сесть на мель                 unknown\n",
       "2100                         Хлопать глазами                 unknown\n",
       "2101                            Вешать лапшу                 unknown\n",
       "2102                             Идти в ногу                 unknown\n",
       "2103                            Метать бисер                 unknown\n",
       "\n",
       "[2104 rows x 2 columns]"
      ]
     },
     "execution_count": 2,
     "metadata": {},
     "output_type": "execute_result"
    }
   ],
   "source": [
    "import pandas as pd\n",
    "data = pd.read_csv('train.csv')\n",
    "data"
   ]
  },
  {
   "cell_type": "code",
   "execution_count": 3,
   "id": "0f17041a",
   "metadata": {},
   "outputs": [
    {
     "name": "stdout",
     "output_type": "stream",
     "text": [
      "Learning rate set to 0.5\n",
      "0:\tlearn: 1.3483532\ttotal: 183ms\tremaining: 18.1s\n",
      "10:\tlearn: 0.5725492\ttotal: 572ms\tremaining: 4.63s\n",
      "20:\tlearn: 0.3368056\ttotal: 951ms\tremaining: 3.58s\n",
      "30:\tlearn: 0.2101757\ttotal: 1.32s\tremaining: 2.94s\n",
      "40:\tlearn: 0.1565642\ttotal: 1.7s\tremaining: 2.44s\n",
      "50:\tlearn: 0.1146186\ttotal: 2.07s\tremaining: 1.99s\n",
      "60:\tlearn: 0.0919718\ttotal: 2.48s\tremaining: 1.58s\n",
      "70:\tlearn: 0.0757051\ttotal: 2.91s\tremaining: 1.19s\n",
      "80:\tlearn: 0.0632698\ttotal: 3.32s\tremaining: 779ms\n",
      "90:\tlearn: 0.0547143\ttotal: 3.7s\tremaining: 366ms\n",
      "99:\tlearn: 0.0488897\ttotal: 4.07s\tremaining: 0us\n",
      "Accuracy: 0.997737556561086\n",
      "                           precision    recall  f1-score   support\n",
      "\n",
      "                  add_ecp       1.00      1.00      1.00        93\n",
      "   create_company_profile       1.00      1.00      1.00        76\n",
      "          create_contract       1.00      0.99      0.99        79\n",
      "create_direct_procurement       1.00      1.00      1.00        89\n",
      " create_quotation_session       1.00      1.00      1.00        84\n",
      "             manage_offer       1.00      0.99      0.99        92\n",
      "                  unknown       0.99      1.00      1.00       281\n",
      "      update_user_profile       1.00      1.00      1.00        90\n",
      "\n",
      "                 accuracy                           1.00       884\n",
      "                macro avg       1.00      1.00      1.00       884\n",
      "             weighted avg       1.00      1.00      1.00       884\n",
      "\n"
     ]
    }
   ],
   "source": [
    "from sklearn.feature_extraction.text import TfidfVectorizer\n",
    "from sklearn.model_selection import train_test_split\n",
    "from catboost import CatBoostClassifier\n",
    "from sklearn.metrics import accuracy_score, classification_report\n",
    "import joblib\n",
    "\n",
    "# 1. Загрузка данных\n",
    "data = pd.read_csv('train.csv')\n",
    "X = data['text']\n",
    "y = data['intent']\n",
    "\n",
    "# 2. Преобразование текста в числовые признаки\n",
    "vectorizer = TfidfVectorizer(ngram_range=(1, 2))\n",
    "X_vectorized = vectorizer.fit_transform(X)\n",
    "\n",
    "# 3. Разделение данных\n",
    "X_train, X_test, y_train, y_test = train_test_split(\n",
    "    X_vectorized, y, test_size=0.42, random_state=82\n",
    ")\n",
    "\n",
    "# 4. Обучение модели CatBoost\n",
    "model = CatBoostClassifier(iterations=100, verbose=10)\n",
    "model.fit(X_train, y_train)\n",
    "\n",
    "# 5. Оценка модели\n",
    "y_pred = model.predict(X_test)\n",
    "print(f'Accuracy: {accuracy_score(y_test, y_pred)}')\n",
    "print(classification_report(y_test, y_pred))"
   ]
  },
  {
   "cell_type": "code",
   "execution_count": 4,
   "id": "65c3f080",
   "metadata": {},
   "outputs": [
    {
     "name": "stdout",
     "output_type": "stream",
     "text": [
      "Предсказанный класс: ['unknown']\n"
     ]
    }
   ],
   "source": [
    "test_phrase = [\"закладка под деревом\"]\n",
    "test_vector = vectorizer.transform(test_phrase)\n",
    "predicted_class = model.predict(test_vector)\n",
    "print(f'Предсказанный класс: {predicted_class[0]}')"
   ]
  },
  {
   "cell_type": "code",
   "execution_count": 5,
   "id": "3b32151b",
   "metadata": {},
   "outputs": [
    {
     "data": {
      "text/plain": [
       "['tfidf_vectorizer.pkl']"
      ]
     },
     "execution_count": 5,
     "metadata": {},
     "output_type": "execute_result"
    }
   ],
   "source": [
    "model.save_model(\"catboost_model.cbm\")\n",
    "joblib.dump(vectorizer, \"tfidf_vectorizer.pkl\")"
   ]
  },
  {
   "cell_type": "code",
   "execution_count": 6,
   "id": "c31759be",
   "metadata": {},
   "outputs": [
    {
     "data": {
      "text/plain": [
       "array(['create_company_profile', 'add_ecp', 'create_direct_procurement',\n",
       "       'update_user_profile', 'create_quotation_session',\n",
       "       'create_contract', 'manage_offer', 'unknown'], dtype=object)"
      ]
     },
     "execution_count": 6,
     "metadata": {},
     "output_type": "execute_result"
    }
   ],
   "source": [
    "data[\"intent\"].unique()"
   ]
  },
  {
   "cell_type": "code",
   "execution_count": 7,
   "id": "88a6d6e6",
   "metadata": {},
   "outputs": [
    {
     "name": "stdout",
     "output_type": "stream",
     "text": [
      "Текст: Создать новую компанию → Предсказанный интент: ['create_company_profile']\n",
      "Текст: Удалить оферту из корзины → Предсказанный интент: ['manage_offer']\n"
     ]
    }
   ],
   "source": [
    "model = CatBoostClassifier()\n",
    "model.load_model(\"catboost_model.cbm\")\n",
    "vectorizer = joblib.load(\"tfidf_vectorizer.pkl\")\n",
    "\n",
    "# Тестовый пример\n",
    "sample_texts = [\n",
    "    \"Создать новую компанию\",\n",
    "    \"Удалить оферту из корзины\"\n",
    "]\n",
    "\n",
    "# Преобразование текста и предсказание\n",
    "X_sample = vectorizer.transform(sample_texts)\n",
    "preds = model.predict(X_sample)\n",
    "\n",
    "for text, pred in zip(sample_texts, preds):\n",
    "    print(f\"Текст: {text} → Предсказанный интент: {pred}\")"
   ]
  }
 ],
 "metadata": {
  "kernelspec": {
   "display_name": "Python 3",
   "language": "python",
   "name": "python3"
  },
  "language_info": {
   "codemirror_mode": {
    "name": "ipython",
    "version": 3
   },
   "file_extension": ".py",
   "mimetype": "text/x-python",
   "name": "python",
   "nbconvert_exporter": "python",
   "pygments_lexer": "ipython3",
   "version": "3.12.3"
  }
 },
 "nbformat": 4,
 "nbformat_minor": 5
}
